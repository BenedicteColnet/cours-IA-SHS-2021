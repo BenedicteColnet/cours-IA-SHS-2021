{
 "cells": [
  {
   "cell_type": "markdown",
   "metadata": {},
   "source": [
    "# Extraction de données \n",
    "\n",
    "Extraction de données pour le cours IA & SHS (data challenge). Notebook qui utilise un tableau extrait en février 2021. \n",
    "\n",
    "Les données viennent de **The Texas Tribune**, et recouvrent en tout 111 agences.\n",
    "\n",
    "Quelques informations:\n",
    "- Base créée en Novembre 2008\n",
    "- Salaire médian est de $44,642 (trouvé sur leur site, et confirmé avec les données)\n",
    "- D'après une [note](https://www.texastribune.org/2020/05/20/texas-tribune-salaries-database/) de Mai 2020, les salaires des personnes universitaires et hospitalières ne sont plus publiées\n",
    "- Les descriptions de postes se font selon la nomenclature https://hr.sao.texas.gov/CompensationSystem/JobDescriptions"
   ]
  },
  {
   "cell_type": "code",
   "execution_count": 251,
   "metadata": {},
   "outputs": [],
   "source": [
    "import numpy as np\n",
    "from sklearn.model_selection import train_test_split\n",
    "import pandas as pd\n",
    "import matplotlib.pyplot as plt\n",
    "from statistics import median\n",
    "\n",
    "import random\n",
    "random.seed(123)"
   ]
  },
  {
   "cell_type": "code",
   "execution_count": 252,
   "metadata": {},
   "outputs": [],
   "source": [
    "texas = pd.read_csv('./texas-2021-02-01.csv') "
   ]
  },
  {
   "cell_type": "code",
   "execution_count": 253,
   "metadata": {},
   "outputs": [
    {
     "data": {
      "text/plain": [
       "(146808, 21)"
      ]
     },
     "execution_count": 253,
     "metadata": {},
     "output_type": "execute_result"
    }
   ],
   "source": [
    "texas.shape"
   ]
  },
  {
   "cell_type": "code",
   "execution_count": 254,
   "metadata": {},
   "outputs": [
    {
     "data": {
      "text/plain": [
       "['AGY',\n",
       " 'NAME',\n",
       " 'LASTNAME',\n",
       " 'FIRSTNAME',\n",
       " 'MI',\n",
       " 'JOBCLASS',\n",
       " 'JC TITLE',\n",
       " 'RACE',\n",
       " 'SEX',\n",
       " 'EMPTYPE',\n",
       " 'HIREDT',\n",
       " 'RATE',\n",
       " 'HRSWKD',\n",
       " 'MONTHLY',\n",
       " 'ANNUAL',\n",
       " 'STATENUM',\n",
       " 'duplicated',\n",
       " 'multiple_full_time_jobs',\n",
       " 'combined_multiple_jobs',\n",
       " 'summed_annual_salary',\n",
       " 'hide_from_search']"
      ]
     },
     "execution_count": 254,
     "metadata": {},
     "output_type": "execute_result"
    }
   ],
   "source": [
    "list(texas.columns)"
   ]
  },
  {
   "cell_type": "code",
   "execution_count": 255,
   "metadata": {},
   "outputs": [
    {
     "data": {
      "text/plain": [
       "111"
      ]
     },
     "execution_count": 255,
     "metadata": {},
     "output_type": "execute_result"
    }
   ],
   "source": [
    "# 111 agencies\n",
    "len(texas.AGY.unique())"
   ]
  },
  {
   "cell_type": "code",
   "execution_count": 256,
   "metadata": {},
   "outputs": [
    {
     "data": {
      "text/plain": [
       "111"
      ]
     },
     "execution_count": 256,
     "metadata": {},
     "output_type": "execute_result"
    }
   ],
   "source": [
    "# see that the AGY is redundant with the agency name\n",
    "len(texas.NAME.unique())"
   ]
  },
  {
   "cell_type": "code",
   "execution_count": 257,
   "metadata": {},
   "outputs": [
    {
     "data": {
      "text/plain": [
       "(146808, 18)"
      ]
     },
     "execution_count": 257,
     "metadata": {},
     "output_type": "execute_result"
    }
   ],
   "source": [
    "# delete redundant column with Y\n",
    "del texas[\"MONTHLY\"]\n",
    "del texas[\"summed_annual_salary\"]\n",
    "\n",
    "# useless column\n",
    "del texas['hide_from_search']\n",
    "\n",
    "# delete duplicated rows\n",
    "texas = texas.drop_duplicates()\n",
    "texas.shape"
   ]
  },
  {
   "cell_type": "code",
   "execution_count": 258,
   "metadata": {},
   "outputs": [
    {
     "data": {
      "text/plain": [
       "0     STACEY                        \n",
       "1     STACEY                        \n",
       "2     DAVID                         \n",
       "3     DAVID                         \n",
       "4     MARIE                         \n",
       "                   ...              \n",
       "65    CRAIG                         \n",
       "66    JENNA                         \n",
       "67    JENNA                         \n",
       "68    ANGELA                        \n",
       "69    HECTOR                        \n",
       "Name: FIRSTNAME, Length: 70, dtype: object"
      ]
     },
     "execution_count": 258,
     "metadata": {},
     "output_type": "execute_result"
    }
   ],
   "source": [
    "# there is a duplicated column\n",
    "subset = texas.loc[texas['duplicated'] == True]\n",
    "subset.FIRSTNAME"
   ]
  },
  {
   "cell_type": "markdown",
   "metadata": {},
   "source": [
    "According to what I understand from the website, these are columns that are redundant because people have several jobs within the administration. Because it may complicate the task and because it does not represent a lot of people, we remove them."
   ]
  },
  {
   "cell_type": "code",
   "execution_count": 259,
   "metadata": {},
   "outputs": [
    {
     "data": {
      "text/plain": [
       "(146738, 18)"
      ]
     },
     "execution_count": 259,
     "metadata": {},
     "output_type": "execute_result"
    }
   ],
   "source": [
    "# selecting rows without the duplicated conditions \n",
    "texas = texas.loc[texas['duplicated'] != True]\n",
    "texas.shape"
   ]
  },
  {
   "cell_type": "code",
   "execution_count": 260,
   "metadata": {},
   "outputs": [],
   "source": [
    "# remove names\n",
    "del texas[\"LASTNAME\"]\n",
    "del texas[\"FIRSTNAME\"]"
   ]
  },
  {
   "cell_type": "code",
   "execution_count": 261,
   "metadata": {},
   "outputs": [],
   "source": [
    "# finally AGY is not kept because it is redundant with NAME\n",
    "numerical_columns = ['RATE', 'HRSWKD', 'STATENUM', 'multiple_full_time_jobs']\n",
    "categorical_columns = ['NAME', 'MI', 'JOBCLASS', 'JC TITLE', 'RACE', 'SEX', 'EMPTYPE', 'HIREDT', 'combined_multiple_jobs']\n",
    "\n",
    "data_columns = numerical_columns + categorical_columns\n",
    "\n",
    "X = texas[data_columns]\n",
    "y = texas.ANNUAL"
   ]
  },
  {
   "cell_type": "code",
   "execution_count": 262,
   "metadata": {},
   "outputs": [],
   "source": [
    "X_train, X_test, y_train, y_test = train_test_split(X, y, random_state = 123, test_size = 0.15)\n",
    "train = pd.concat([X_train, y_train], axis=1)"
   ]
  },
  {
   "cell_type": "code",
   "execution_count": 263,
   "metadata": {},
   "outputs": [],
   "source": [
    "train.to_csv(\"./train_data.csv\")\n",
    "X_test.to_csv(\"./test_data.csv\")\n",
    "y_test.to_csv(\"./y_test.csv\")\n",
    "assert X.shape[0] == train.shape[0] + X_test.shape[0]"
   ]
  },
  {
   "cell_type": "markdown",
   "metadata": {},
   "source": [
    "Quelques compléments sur les données"
   ]
  },
  {
   "cell_type": "code",
   "execution_count": 264,
   "metadata": {},
   "outputs": [
    {
     "data": {
      "text/plain": [
       "(array([ 1930., 49477., 59185., 20929.,  8125.,  3492.]),\n",
       " array([ 10000,  20000,  40000,  60000,  80000, 100000, 120000]),\n",
       " <BarContainer object of 6 artists>)"
      ]
     },
     "execution_count": 264,
     "metadata": {},
     "output_type": "execute_result"
    },
    {
     "data": {
      "image/png": "[encoded data removed]",
      "text/plain": [
       "<Figure size 432x288 with 1 Axes>"
      ]
     },
     "metadata": {
      "needs_background": "light"
     },
     "output_type": "display_data"
    }
   ],
   "source": [
    "plt.hist(texas.ANNUAL, bins = [10000, 20000, 40000, 60000, 80000, 100000, 120000])"
   ]
  },
  {
   "cell_type": "code",
   "execution_count": 265,
   "metadata": {},
   "outputs": [
    {
     "data": {
      "text/plain": [
       "44642.04"
      ]
     },
     "execution_count": 265,
     "metadata": {},
     "output_type": "execute_result"
    }
   ],
   "source": [
    "median(texas.ANNUAL)"
   ]
  },
  {
   "cell_type": "code",
   "execution_count": 271,
   "metadata": {},
   "outputs": [
    {
     "data": {
      "text/plain": [
       "['RATE',\n",
       " 'HRSWKD',\n",
       " 'STATENUM',\n",
       " 'multiple_full_time_jobs',\n",
       " 'NAME',\n",
       " 'MI',\n",
       " 'JOBCLASS',\n",
       " 'JC TITLE',\n",
       " 'RACE',\n",
       " 'SEX',\n",
       " 'EMPTYPE',\n",
       " 'HIREDT',\n",
       " 'combined_multiple_jobs']"
      ]
     },
     "execution_count": 271,
     "metadata": {},
     "output_type": "execute_result"
    }
   ],
   "source": []
  },
  {
   "cell_type": "code",
   "execution_count": 272,
   "metadata": {},
   "outputs": [
    {
     "data": {
      "text/plain": [
       "['RATE',\n",
       " 'HRSWKD',\n",
       " 'STATENUM',\n",
       " 'multiple_full_time_jobs',\n",
       " 'NAME',\n",
       " 'MI',\n",
       " 'JOBCLASS',\n",
       " 'JC TITLE',\n",
       " 'RACE',\n",
       " 'SEX',\n",
       " 'EMPTYPE',\n",
       " 'HIREDT',\n",
       " 'combined_multiple_jobs',\n",
       " 'ANNUAL']"
      ]
     },
     "execution_count": 272,
     "metadata": {},
     "output_type": "execute_result"
    }
   ],
   "source": []
  },
  {
   "cell_type": "code",
   "execution_count": null,
   "metadata": {},
   "outputs": [],
   "source": []
  }
 ],
 "metadata": {
  "kernelspec": {
   "display_name": "Python 3",
   "language": "python",
   "name": "python3"
  },
  "language_info": {
   "codemirror_mode": {
    "name": "ipython",
    "version": 3
   },
   "file_extension": ".py",
   "mimetype": "text/x-python",
   "name": "python",
   "nbconvert_exporter": "python",
   "pygments_lexer": "ipython3",
   "version": "3.9.1"
  }
 },
 "nbformat": 4,
 "nbformat_minor": 4
}
