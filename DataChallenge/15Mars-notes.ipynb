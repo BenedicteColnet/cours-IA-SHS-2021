{
 "cells": [
  {
   "cell_type": "markdown",
   "metadata": {},
   "source": [
    "Notes de la séance du 15 Mars - Première séance sur le data challenge"
   ]
  },
  {
   "cell_type": "code",
   "execution_count": 1,
   "metadata": {},
   "outputs": [],
   "source": [
    "import pandas as pd"
   ]
  },
  {
   "cell_type": "code",
   "execution_count": 2,
   "metadata": {},
   "outputs": [],
   "source": [
    "df_train = pd.read_csv('./data/train_data.csv')"
   ]
  },
  {
   "cell_type": "code",
   "execution_count": 3,
   "metadata": {
    "scrolled": true
   },
   "outputs": [
    {
     "data": {
      "text/html": [
       "<div>\n",
       "<style scoped>\n",
       "    .dataframe tbody tr th:only-of-type {\n",
       "        vertical-align: middle;\n",
       "    }\n",
       "\n",
       "    .dataframe tbody tr th {\n",
       "        vertical-align: top;\n",
       "    }\n",
       "\n",
       "    .dataframe thead th {\n",
       "        text-align: right;\n",
       "    }\n",
       "</style>\n",
       "<table border=\"1\" class=\"dataframe\">\n",
       "  <thead>\n",
       "    <tr style=\"text-align: right;\">\n",
       "      <th></th>\n",
       "      <th>Unnamed: 0</th>\n",
       "      <th>RATE</th>\n",
       "      <th>HRSWKD</th>\n",
       "      <th>STATENUM</th>\n",
       "      <th>multiple_full_time_jobs</th>\n",
       "      <th>NAME</th>\n",
       "      <th>MI</th>\n",
       "      <th>JOBCLASS</th>\n",
       "      <th>JC TITLE</th>\n",
       "      <th>RACE</th>\n",
       "      <th>SEX</th>\n",
       "      <th>EMPTYPE</th>\n",
       "      <th>HIREDT</th>\n",
       "      <th>combined_multiple_jobs</th>\n",
       "      <th>ANNUAL</th>\n",
       "    </tr>\n",
       "  </thead>\n",
       "  <tbody>\n",
       "    <tr>\n",
       "      <th>0</th>\n",
       "      <td>67840</td>\n",
       "      <td>0.0</td>\n",
       "      <td>40.0</td>\n",
       "      <td>54316</td>\n",
       "      <td>NaN</td>\n",
       "      <td>HEALTH AND HUMAN SERVICES COMMISSION          ...</td>\n",
       "      <td>A</td>\n",
       "      <td>6232</td>\n",
       "      <td>SECURITY OFFICER III                          ...</td>\n",
       "      <td>BLACK</td>\n",
       "      <td>MALE</td>\n",
       "      <td>CRF - CLASSIFIED REGULAR FULL-TIME</td>\n",
       "      <td>08/01/18</td>\n",
       "      <td>NaN</td>\n",
       "      <td>26331.96</td>\n",
       "    </tr>\n",
       "    <tr>\n",
       "      <th>1</th>\n",
       "      <td>76155</td>\n",
       "      <td>0.0</td>\n",
       "      <td>40.0</td>\n",
       "      <td>1286065</td>\n",
       "      <td>NaN</td>\n",
       "      <td>DEPARTMENT OF FAMILY AND PROTECTIVE SERVICES  ...</td>\n",
       "      <td>R</td>\n",
       "      <td>5023</td>\n",
       "      <td>CHILD PROTECTIVE SVCS SPEC I                  ...</td>\n",
       "      <td>WHITE</td>\n",
       "      <td>MALE</td>\n",
       "      <td>CRF - CLASSIFIED REGULAR FULL-TIME</td>\n",
       "      <td>10/12/20</td>\n",
       "      <td>NaN</td>\n",
       "      <td>45799.80</td>\n",
       "    </tr>\n",
       "    <tr>\n",
       "      <th>2</th>\n",
       "      <td>86107</td>\n",
       "      <td>0.0</td>\n",
       "      <td>40.0</td>\n",
       "      <td>133785</td>\n",
       "      <td>NaN</td>\n",
       "      <td>TEXAS COMMISSION ON ENVIRONMENTAL QUALITY     ...</td>\n",
       "      <td>A</td>\n",
       "      <td>2155</td>\n",
       "      <td>ENGINEER IV                                   ...</td>\n",
       "      <td>HISPANIC</td>\n",
       "      <td>MALE</td>\n",
       "      <td>CRF - CLASSIFIED REGULAR FULL-TIME</td>\n",
       "      <td>10/18/10</td>\n",
       "      <td>NaN</td>\n",
       "      <td>81276.00</td>\n",
       "    </tr>\n",
       "    <tr>\n",
       "      <th>3</th>\n",
       "      <td>142906</td>\n",
       "      <td>0.0</td>\n",
       "      <td>40.0</td>\n",
       "      <td>944748</td>\n",
       "      <td>NaN</td>\n",
       "      <td>PARKS AND WILDLIFE DEPARTMENT                 ...</td>\n",
       "      <td>E</td>\n",
       "      <td>6252</td>\n",
       "      <td>STATE PARK POLICE OFFICER                     ...</td>\n",
       "      <td>HISPANIC</td>\n",
       "      <td>MALE</td>\n",
       "      <td>CRF - CLASSIFIED REGULAR FULL-TIME</td>\n",
       "      <td>12/14/15</td>\n",
       "      <td>NaN</td>\n",
       "      <td>59232.00</td>\n",
       "    </tr>\n",
       "    <tr>\n",
       "      <th>4</th>\n",
       "      <td>59679</td>\n",
       "      <td>0.0</td>\n",
       "      <td>40.0</td>\n",
       "      <td>153878</td>\n",
       "      <td>NaN</td>\n",
       "      <td>HEALTH AND HUMAN SERVICES COMMISSION          ...</td>\n",
       "      <td></td>\n",
       "      <td>5622</td>\n",
       "      <td>TEXAS WORKS ADVISOR II                        ...</td>\n",
       "      <td>BLACK</td>\n",
       "      <td>FEMALE</td>\n",
       "      <td>CRF - CLASSIFIED REGULAR FULL-TIME</td>\n",
       "      <td>09/01/04</td>\n",
       "      <td>NaN</td>\n",
       "      <td>39663.96</td>\n",
       "    </tr>\n",
       "  </tbody>\n",
       "</table>\n",
       "</div>"
      ],
      "text/plain": [
       "   Unnamed: 0  RATE  HRSWKD  STATENUM  multiple_full_time_jobs  \\\n",
       "0       67840   0.0    40.0     54316                      NaN   \n",
       "1       76155   0.0    40.0   1286065                      NaN   \n",
       "2       86107   0.0    40.0    133785                      NaN   \n",
       "3      142906   0.0    40.0    944748                      NaN   \n",
       "4       59679   0.0    40.0    153878                      NaN   \n",
       "\n",
       "                                                NAME MI  JOBCLASS  \\\n",
       "0  HEALTH AND HUMAN SERVICES COMMISSION          ...  A  6232       \n",
       "1  DEPARTMENT OF FAMILY AND PROTECTIVE SERVICES  ...  R  5023       \n",
       "2  TEXAS COMMISSION ON ENVIRONMENTAL QUALITY     ...  A  2155       \n",
       "3  PARKS AND WILDLIFE DEPARTMENT                 ...  E  6252       \n",
       "4  HEALTH AND HUMAN SERVICES COMMISSION          ...     5622       \n",
       "\n",
       "                                            JC TITLE             RACE  \\\n",
       "0  SECURITY OFFICER III                          ...  BLACK             \n",
       "1  CHILD PROTECTIVE SVCS SPEC I                  ...  WHITE             \n",
       "2  ENGINEER IV                                   ...  HISPANIC          \n",
       "3  STATE PARK POLICE OFFICER                     ...  HISPANIC          \n",
       "4  TEXAS WORKS ADVISOR II                        ...  BLACK             \n",
       "\n",
       "               SEX                                   EMPTYPE    HIREDT  \\\n",
       "0  MALE             CRF - CLASSIFIED REGULAR FULL-TIME        08/01/18   \n",
       "1  MALE             CRF - CLASSIFIED REGULAR FULL-TIME        10/12/20   \n",
       "2  MALE             CRF - CLASSIFIED REGULAR FULL-TIME        10/18/10   \n",
       "3  MALE             CRF - CLASSIFIED REGULAR FULL-TIME        12/14/15   \n",
       "4  FEMALE           CRF - CLASSIFIED REGULAR FULL-TIME        09/01/04   \n",
       "\n",
       "   combined_multiple_jobs    ANNUAL  \n",
       "0                     NaN  26331.96  \n",
       "1                     NaN  45799.80  \n",
       "2                     NaN  81276.00  \n",
       "3                     NaN  59232.00  \n",
       "4                     NaN  39663.96  "
      ]
     },
     "execution_count": 3,
     "metadata": {},
     "output_type": "execute_result"
    }
   ],
   "source": [
    "df_train.head()"
   ]
  },
  {
   "cell_type": "code",
   "execution_count": 4,
   "metadata": {},
   "outputs": [],
   "source": [
    "date = pd.to_datetime(df_train['HIREDT'])\n",
    "date[date > pd.to_datetime('02/01/21')] -= pd.Timedelta('100Y')"
   ]
  },
  {
   "cell_type": "code",
   "execution_count": 5,
   "metadata": {},
   "outputs": [
    {
     "data": {
      "text/plain": [
       "Timestamp('1968-12-01 18:00:00')"
      ]
     },
     "execution_count": 5,
     "metadata": {},
     "output_type": "execute_result"
    }
   ],
   "source": [
    "date.min()"
   ]
  },
  {
   "cell_type": "code",
   "execution_count": 7,
   "metadata": {},
   "outputs": [
    {
     "data": {
      "text/plain": [
       "<AxesSubplot:ylabel='Frequency'>"
      ]
     },
     "execution_count": 7,
     "metadata": {},
     "output_type": "execute_result"
    },
    {
     "data": {
      "image/png": "[encoded data removed]",
      "text/plain": [
       "<Figure size 432x288 with 1 Axes>"
      ]
     },
     "metadata": {
      "needs_background": "light"
     },
     "output_type": "display_data"
    }
   ],
   "source": [
    "date.dt.year.plot(kind='hist')"
   ]
  },
  {
   "cell_type": "code",
   "execution_count": 24,
   "metadata": {},
   "outputs": [
    {
     "data": {
      "text/plain": [
       "<AxesSubplot:ylabel='Frequency'>"
      ]
     },
     "execution_count": 24,
     "metadata": {},
     "output_type": "execute_result"
    },
    {
     "data": {
      "image/png": "[encoded data removed]",
      "text/plain": [
       "<Figure size 432x288 with 1 Axes>"
      ]
     },
     "metadata": {
      "needs_background": "light"
     },
     "output_type": "display_data"
    }
   ],
   "source": [
    "date.dt.month.plot(kind='hist')"
   ]
  },
  {
   "cell_type": "code",
   "execution_count": 8,
   "metadata": {},
   "outputs": [
    {
     "data": {
      "text/plain": [
       "0         915 days\n",
       "1         112 days\n",
       "2        3759 days\n",
       "3        1876 days\n",
       "4        5997 days\n",
       "            ...   \n",
       "124722   1219 days\n",
       "124723   1533 days\n",
       "124724   3288 days\n",
       "124725   7644 days\n",
       "124726    126 days\n",
       "Name: HIREDT, Length: 124727, dtype: timedelta64[ns]"
      ]
     },
     "execution_count": 8,
     "metadata": {},
     "output_type": "execute_result"
    }
   ],
   "source": [
    "pd.to_datetime('02/01/21') - date"
   ]
  },
  {
   "cell_type": "code",
   "execution_count": 9,
   "metadata": {},
   "outputs": [
    {
     "data": {
      "text/plain": [
       "0          2.506849\n",
       "1          0.306849\n",
       "2         10.298630\n",
       "3          5.139726\n",
       "4         16.430137\n",
       "            ...    \n",
       "124722     3.339726\n",
       "124723     4.200000\n",
       "124724     9.008219\n",
       "124725    20.942466\n",
       "124726     0.345205\n",
       "Name: HIREDT, Length: 124727, dtype: float64"
      ]
     },
     "execution_count": 9,
     "metadata": {},
     "output_type": "execute_result"
    }
   ],
   "source": [
    "(pd.to_datetime('02/01/21') - date).dt.days / 365"
   ]
  },
  {
   "cell_type": "code",
   "execution_count": 10,
   "metadata": {},
   "outputs": [
    {
     "data": {
      "text/plain": [
       "52.202739726027396"
      ]
     },
     "execution_count": 10,
     "metadata": {},
     "output_type": "execute_result"
    }
   ],
   "source": [
    "((pd.to_datetime('02/01/21') - date).dt.days / 365).max()"
   ]
  },
  {
   "cell_type": "code",
   "execution_count": 13,
   "metadata": {},
   "outputs": [],
   "source": [
    "y_train = df_train['ANNUAL']"
   ]
  },
  {
   "cell_type": "code",
   "execution_count": 14,
   "metadata": {},
   "outputs": [],
   "source": [
    "X_train = df_train[['RATE', 'HIREDT', 'HRSWKD', 'STATENUM', 'multiple_full_time_jobs', 'combined_multiple_jobs']]"
   ]
  },
  {
   "cell_type": "code",
   "execution_count": 15,
   "metadata": {},
   "outputs": [
    {
     "data": {
      "text/plain": [
       "RATE                       float64\n",
       "HIREDT                      object\n",
       "HRSWKD                     float64\n",
       "STATENUM                     int64\n",
       "multiple_full_time_jobs    float64\n",
       "combined_multiple_jobs     float64\n",
       "dtype: object"
      ]
     },
     "execution_count": 15,
     "metadata": {},
     "output_type": "execute_result"
    }
   ],
   "source": [
    "X_train.dtypes"
   ]
  },
  {
   "cell_type": "code",
   "execution_count": 16,
   "metadata": {},
   "outputs": [],
   "source": [
    "from sklearn.experimental import enable_hist_gradient_boosting\n",
    "from sklearn.ensemble import HistGradientBoostingRegressor\n",
    "model = HistGradientBoostingRegressor()\n",
    "from sklearn import model_selection"
   ]
  },
  {
   "cell_type": "code",
   "execution_count": 19,
   "metadata": {},
   "outputs": [],
   "source": [
    "REFERENCE_DATE = pd.to_datetime('02/01/21')\n",
    "\n",
    "def date_to_num(df_col):\n",
    "    date = pd.to_datetime(df_col.squeeze())\n",
    "    date[date > REFERENCE_DATE] -= pd.Timedelta('100Y')\n",
    "    date_delta = REFERENCE_DATE - date\n",
    "    return (date_delta.dt.days / 365).to_frame()\n"
   ]
  },
  {
   "cell_type": "code",
   "execution_count": 20,
   "metadata": {},
   "outputs": [
    {
     "data": {
      "text/html": [
       "<div>\n",
       "<style scoped>\n",
       "    .dataframe tbody tr th:only-of-type {\n",
       "        vertical-align: middle;\n",
       "    }\n",
       "\n",
       "    .dataframe tbody tr th {\n",
       "        vertical-align: top;\n",
       "    }\n",
       "\n",
       "    .dataframe thead th {\n",
       "        text-align: right;\n",
       "    }\n",
       "</style>\n",
       "<table border=\"1\" class=\"dataframe\">\n",
       "  <thead>\n",
       "    <tr style=\"text-align: right;\">\n",
       "      <th></th>\n",
       "      <th>HIREDT</th>\n",
       "    </tr>\n",
       "  </thead>\n",
       "  <tbody>\n",
       "    <tr>\n",
       "      <th>0</th>\n",
       "      <td>2.506849</td>\n",
       "    </tr>\n",
       "    <tr>\n",
       "      <th>1</th>\n",
       "      <td>0.306849</td>\n",
       "    </tr>\n",
       "    <tr>\n",
       "      <th>2</th>\n",
       "      <td>10.298630</td>\n",
       "    </tr>\n",
       "    <tr>\n",
       "      <th>3</th>\n",
       "      <td>5.139726</td>\n",
       "    </tr>\n",
       "    <tr>\n",
       "      <th>4</th>\n",
       "      <td>16.430137</td>\n",
       "    </tr>\n",
       "    <tr>\n",
       "      <th>...</th>\n",
       "      <td>...</td>\n",
       "    </tr>\n",
       "    <tr>\n",
       "      <th>124722</th>\n",
       "      <td>3.339726</td>\n",
       "    </tr>\n",
       "    <tr>\n",
       "      <th>124723</th>\n",
       "      <td>4.200000</td>\n",
       "    </tr>\n",
       "    <tr>\n",
       "      <th>124724</th>\n",
       "      <td>9.008219</td>\n",
       "    </tr>\n",
       "    <tr>\n",
       "      <th>124725</th>\n",
       "      <td>20.942466</td>\n",
       "    </tr>\n",
       "    <tr>\n",
       "      <th>124726</th>\n",
       "      <td>0.345205</td>\n",
       "    </tr>\n",
       "  </tbody>\n",
       "</table>\n",
       "<p>124727 rows × 1 columns</p>\n",
       "</div>"
      ],
      "text/plain": [
       "           HIREDT\n",
       "0        2.506849\n",
       "1        0.306849\n",
       "2       10.298630\n",
       "3        5.139726\n",
       "4       16.430137\n",
       "...           ...\n",
       "124722   3.339726\n",
       "124723   4.200000\n",
       "124724   9.008219\n",
       "124725  20.942466\n",
       "124726   0.345205\n",
       "\n",
       "[124727 rows x 1 columns]"
      ]
     },
     "execution_count": 20,
     "metadata": {},
     "output_type": "execute_result"
    }
   ],
   "source": [
    "date_to_num(df_train[['HIREDT']])"
   ]
  },
  {
   "cell_type": "code",
   "execution_count": 21,
   "metadata": {},
   "outputs": [],
   "source": [
    "from sklearn.preprocessing import FunctionTransformer\n",
    "date_time_transformer = FunctionTransformer(date_to_num)"
   ]
  },
  {
   "cell_type": "code",
   "execution_count": 22,
   "metadata": {},
   "outputs": [
    {
     "data": {
      "text/html": [
       "<div>\n",
       "<style scoped>\n",
       "    .dataframe tbody tr th:only-of-type {\n",
       "        vertical-align: middle;\n",
       "    }\n",
       "\n",
       "    .dataframe tbody tr th {\n",
       "        vertical-align: top;\n",
       "    }\n",
       "\n",
       "    .dataframe thead th {\n",
       "        text-align: right;\n",
       "    }\n",
       "</style>\n",
       "<table border=\"1\" class=\"dataframe\">\n",
       "  <thead>\n",
       "    <tr style=\"text-align: right;\">\n",
       "      <th></th>\n",
       "      <th>HIREDT</th>\n",
       "    </tr>\n",
       "  </thead>\n",
       "  <tbody>\n",
       "    <tr>\n",
       "      <th>0</th>\n",
       "      <td>2.506849</td>\n",
       "    </tr>\n",
       "    <tr>\n",
       "      <th>1</th>\n",
       "      <td>0.306849</td>\n",
       "    </tr>\n",
       "    <tr>\n",
       "      <th>2</th>\n",
       "      <td>10.298630</td>\n",
       "    </tr>\n",
       "    <tr>\n",
       "      <th>3</th>\n",
       "      <td>5.139726</td>\n",
       "    </tr>\n",
       "    <tr>\n",
       "      <th>4</th>\n",
       "      <td>16.430137</td>\n",
       "    </tr>\n",
       "    <tr>\n",
       "      <th>...</th>\n",
       "      <td>...</td>\n",
       "    </tr>\n",
       "    <tr>\n",
       "      <th>124722</th>\n",
       "      <td>3.339726</td>\n",
       "    </tr>\n",
       "    <tr>\n",
       "      <th>124723</th>\n",
       "      <td>4.200000</td>\n",
       "    </tr>\n",
       "    <tr>\n",
       "      <th>124724</th>\n",
       "      <td>9.008219</td>\n",
       "    </tr>\n",
       "    <tr>\n",
       "      <th>124725</th>\n",
       "      <td>20.942466</td>\n",
       "    </tr>\n",
       "    <tr>\n",
       "      <th>124726</th>\n",
       "      <td>0.345205</td>\n",
       "    </tr>\n",
       "  </tbody>\n",
       "</table>\n",
       "<p>124727 rows × 1 columns</p>\n",
       "</div>"
      ],
      "text/plain": [
       "           HIREDT\n",
       "0        2.506849\n",
       "1        0.306849\n",
       "2       10.298630\n",
       "3        5.139726\n",
       "4       16.430137\n",
       "...           ...\n",
       "124722   3.339726\n",
       "124723   4.200000\n",
       "124724   9.008219\n",
       "124725  20.942466\n",
       "124726   0.345205\n",
       "\n",
       "[124727 rows x 1 columns]"
      ]
     },
     "execution_count": 22,
     "metadata": {},
     "output_type": "execute_result"
    }
   ],
   "source": [
    "date_time_transformer.transform(df_train['HIREDT'])"
   ]
  },
  {
   "cell_type": "code",
   "execution_count": 23,
   "metadata": {},
   "outputs": [],
   "source": [
    "from sklearn.compose import make_column_transformer"
   ]
  },
  {
   "cell_type": "code",
   "execution_count": 25,
   "metadata": {},
   "outputs": [],
   "source": [
    "ct = make_column_transformer((date_time_transformer, ['HIREDT']),\n",
    "                             remainder='passthrough')"
   ]
  },
  {
   "cell_type": "code",
   "execution_count": 94,
   "metadata": {},
   "outputs": [
    {
     "data": {
      "text/plain": [
       "array([[2.50684932e+00, 0.00000000e+00, 4.00000000e+01, 5.43160000e+04,\n",
       "                   nan,            nan],\n",
       "       [3.06849315e-01, 0.00000000e+00, 4.00000000e+01, 1.28606500e+06,\n",
       "                   nan,            nan],\n",
       "       [1.02986301e+01, 0.00000000e+00, 4.00000000e+01, 1.33785000e+05,\n",
       "                   nan,            nan],\n",
       "       ...,\n",
       "       [9.00821918e+00, 0.00000000e+00, 4.00000000e+01, 1.69680000e+04,\n",
       "                   nan,            nan],\n",
       "       [2.09424658e+01, 0.00000000e+00, 4.00000000e+01, 7.40000000e+03,\n",
       "                   nan,            nan],\n",
       "       [3.45205479e-01, 0.00000000e+00, 4.00000000e+01, 1.28196800e+06,\n",
       "                   nan,            nan]])"
      ]
     },
     "execution_count": 94,
     "metadata": {},
     "output_type": "execute_result"
    }
   ],
   "source": [
    "ct.fit_transform(X_train)"
   ]
  },
  {
   "cell_type": "code",
   "execution_count": 27,
   "metadata": {},
   "outputs": [],
   "source": [
    "model = HistGradientBoostingRegressor()\n",
    "from sklearn.pipeline import make_pipeline\n",
    "pipe = make_pipeline(ct, model)"
   ]
  },
  {
   "cell_type": "code",
   "execution_count": 28,
   "metadata": {},
   "outputs": [
    {
     "data": {
      "text/plain": [
       "array([0.16312779, 0.16222883, 0.15375193, 0.15991574, 0.14577252])"
      ]
     },
     "execution_count": 28,
     "metadata": {},
     "output_type": "execute_result"
    }
   ],
   "source": [
    "model_selection.cross_val_score(pipe, X_train, y_train)"
   ]
  },
  {
   "cell_type": "code",
   "execution_count": null,
   "metadata": {},
   "outputs": [],
   "source": []
  }
 ],
 "metadata": {
  "kernelspec": {
   "display_name": "Python 3",
   "language": "python",
   "name": "python3"
  },
  "language_info": {
   "codemirror_mode": {
    "name": "ipython",
    "version": 3
   },
   "file_extension": ".py",
   "mimetype": "text/x-python",
   "name": "python",
   "nbconvert_exporter": "python",
   "pygments_lexer": "ipython3",
   "version": "3.9.1"
  }
 },
 "nbformat": 4,
 "nbformat_minor": 4
}
