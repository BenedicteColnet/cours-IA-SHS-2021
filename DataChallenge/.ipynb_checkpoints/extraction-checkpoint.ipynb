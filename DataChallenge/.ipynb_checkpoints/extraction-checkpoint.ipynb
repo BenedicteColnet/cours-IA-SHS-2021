{
 "cells": [
  {
   "cell_type": "markdown",
   "metadata": {},
   "source": [
    "# Extraction de données \n",
    "\n",
    "Extraction de données pour le cours IA & SHS (data challenge). Notebook qui utilise un tableau extrait en février 2021. \n",
    "\n",
    "Les données viennent de **The Texas Tribune**, et recouvrent en tout 111 agences."
   ]
  },
  {
   "cell_type": "code",
   "execution_count": 84,
   "metadata": {},
   "outputs": [],
   "source": [
    "import numpy as np\n",
    "from sklearn.model_selection import train_test_split\n",
    "import pandas as pd\n",
    "\n",
    "import random\n",
    "random.seed(123)"
   ]
  },
  {
   "cell_type": "code",
   "execution_count": 85,
   "metadata": {},
   "outputs": [],
   "source": [
    "texas = pd.read_csv('./texas-2021-02-01.csv') "
   ]
  },
  {
   "cell_type": "code",
   "execution_count": 86,
   "metadata": {},
   "outputs": [
    {
     "data": {
      "text/plain": [
       "(146808, 21)"
      ]
     },
     "execution_count": 86,
     "metadata": {},
     "output_type": "execute_result"
    }
   ],
   "source": [
    "texas.shape"
   ]
  },
  {
   "cell_type": "code",
   "execution_count": 87,
   "metadata": {},
   "outputs": [
    {
     "data": {
      "text/plain": [
       "['AGY',\n",
       " 'NAME',\n",
       " 'LASTNAME',\n",
       " 'FIRSTNAME',\n",
       " 'MI',\n",
       " 'JOBCLASS',\n",
       " 'JC TITLE',\n",
       " 'RACE',\n",
       " 'SEX',\n",
       " 'EMPTYPE',\n",
       " 'HIREDT',\n",
       " 'RATE',\n",
       " 'HRSWKD',\n",
       " 'MONTHLY',\n",
       " 'ANNUAL',\n",
       " 'STATENUM',\n",
       " 'duplicated',\n",
       " 'multiple_full_time_jobs',\n",
       " 'combined_multiple_jobs',\n",
       " 'summed_annual_salary',\n",
       " 'hide_from_search']"
      ]
     },
     "execution_count": 87,
     "metadata": {},
     "output_type": "execute_result"
    }
   ],
   "source": [
    "list(texas.columns)"
   ]
  },
  {
   "cell_type": "code",
   "execution_count": 88,
   "metadata": {},
   "outputs": [
    {
     "data": {
      "text/plain": [
       "111"
      ]
     },
     "execution_count": 88,
     "metadata": {},
     "output_type": "execute_result"
    }
   ],
   "source": [
    "# 111 agencies\n",
    "len(texas.AGY.unique())"
   ]
  },
  {
   "cell_type": "code",
   "execution_count": 89,
   "metadata": {},
   "outputs": [
    {
     "data": {
      "text/plain": [
       "111"
      ]
     },
     "execution_count": 89,
     "metadata": {},
     "output_type": "execute_result"
    }
   ],
   "source": [
    "# see that the AGY is redundant with the agency name\n",
    "len(texas.NAME.unique())"
   ]
  },
  {
   "cell_type": "code",
   "execution_count": 90,
   "metadata": {},
   "outputs": [
    {
     "data": {
      "text/plain": [
       "(146808, 15)"
      ]
     },
     "execution_count": 90,
     "metadata": {},
     "output_type": "execute_result"
    }
   ],
   "source": [
    "# delete column names\n",
    "del texas[\"LASTNAME\"]\n",
    "del texas[\"FIRSTNAME\"]\n",
    "\n",
    "# delete redundant column with Y\n",
    "del texas[\"MONTHLY\"]\n",
    "del texas[\"summed_annual_salary\"]\n",
    "\n",
    "# useless column\n",
    "del texas['duplicated']\n",
    "del texas['hide_from_search']\n",
    "\n",
    "# delete duplicated rows\n",
    "texas = texas.drop_duplicates()\n",
    "texas.shape"
   ]
  },
  {
   "cell_type": "code",
   "execution_count": 91,
   "metadata": {},
   "outputs": [],
   "source": [
    "# finally AGY is not kept because it is redundant with NAME\n",
    "numerical_columns = ['RATE', 'HRSWKD', 'STATENUM', 'multiple_full_time_jobs']\n",
    "categorical_columns = ['NAME', 'MI', 'JOBCLASS', 'JC TITLE', 'RACE', 'SEX', 'EMPTYPE', 'HIREDT', 'combined_multiple_jobs']\n",
    "\n",
    "data_columns = numerical_columns + categorical_columns\n",
    "\n",
    "X = texas[data_columns]\n",
    "y = texas.ANNUAL"
   ]
  },
  {
   "cell_type": "code",
   "execution_count": 105,
   "metadata": {},
   "outputs": [],
   "source": [
    "X_train, X_test, y_train, y_test = train_test_split(X, y, random_state = 123, test_size = 0.15)\n",
    "train = pd.concat([X_train, y_train], axis=1)"
   ]
  },
  {
   "cell_type": "code",
   "execution_count": 93,
   "metadata": {},
   "outputs": [],
   "source": [
    "train.to_csv(\"./train_data.csv\")\n",
    "X_test.to_csv(\"./X_test.csv\")\n",
    "y_test.to_csv(\"./y_test.csv\")"
   ]
  },
  {
   "cell_type": "code",
   "execution_count": null,
   "metadata": {},
   "outputs": [],
   "source": []
  },
  {
   "cell_type": "code",
   "execution_count": null,
   "metadata": {},
   "outputs": [],
   "source": []
  }
 ],
 "metadata": {
  "kernelspec": {
   "display_name": "Python 3",
   "language": "python",
   "name": "python3"
  },
  "language_info": {
   "codemirror_mode": {
    "name": "ipython",
    "version": 3
   },
   "file_extension": ".py",
   "mimetype": "text/x-python",
   "name": "python",
   "nbconvert_exporter": "python",
   "pygments_lexer": "ipython3",
   "version": "3.9.1"
  }
 },
 "nbformat": 4,
 "nbformat_minor": 4
}
