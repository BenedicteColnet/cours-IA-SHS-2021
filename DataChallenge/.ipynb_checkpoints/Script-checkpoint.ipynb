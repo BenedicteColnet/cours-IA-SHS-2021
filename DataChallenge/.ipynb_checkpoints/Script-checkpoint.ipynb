{
 "cells": [
  {
   "cell_type": "markdown",
   "metadata": {},
   "source": [
    "# Data challenge\n",
    "\n",
    "This notebook is a mash-up of useful commands and a first data analysis for the challenge."
   ]
  },
  {
   "cell_type": "code",
   "execution_count": 115,
   "metadata": {},
   "outputs": [],
   "source": [
    "import pandas as pd\n",
    "import matplotlib.pyplot as plt\n",
    "import seaborn as sns\n",
    "sns.set_context(\"talk\") # render your plot\n",
    "\n",
    "from sklearn.model_selection import train_test_split\n",
    "from sklearn.linear_model import LogisticRegression\n",
    "from sklearn.preprocessing import StandardScaler # scale variable\n",
    "from sklearn.pipeline import make_pipeline\n",
    "from sklearn.model_selection import cross_val_score\n",
    "from sklearn.preprocessing import OneHotEncoder\n",
    "from sklearn import linear_model\n",
    "from sklearn.compose import ColumnTransformer\n",
    "from sklearn import set_config\n",
    "from sklearn.linear_model import LinearRegression\n",
    "from sklearn.experimental import enable_hist_gradient_boosting\n",
    "from sklearn.preprocessing import OrdinalEncoder\n",
    "from sklearn.ensemble import HistGradientBoostingRegressor\n",
    "from sklearn.metrics import mean_absolute_error\n",
    "from sklearn.model_selection import cross_validate\n",
    "from sklearn.model_selection import ShuffleSplit\n",
    "import numpy as np"
   ]
  },
  {
   "cell_type": "markdown",
   "metadata": {},
   "source": [
    "## Data loading and exploring\n",
    "\n",
    "First steps are:\n",
    "- loading the data;\n",
    "- looking at the variables in the dataset, in particular, differentiate between numerical and categorical variables, which need different preprocessing in most machine learning workflows;\n",
    "- visualizing the distribution of the variables to gain some insights into the dataset.\\\n",
    "\n",
    "\n",
    "(exploration is done on R)\n",
    "\n",
    "Before building a machine learning model, it is a good idea to look at the data:\n",
    "\n",
    "- maybe the task you are trying to achieve can be solved without machine learning;\n",
    "- you need to check that the information you need for your task is actually present in the dataset;\n",
    "- inspecting the data is a good way to find peculiarities. These can arise during data collection (for example, malfunctioning sensor or missing values), or from the way the data is processed afterwards (for example capped values).\n",
    "\n",
    "\n",
    "In the data exploration part (R), MI column does not seem to be strongly associated with annual wages. And the number of years since job start seems less important than the job class for example. Will we recover this first impression while building a prediction algorithm?"
   ]
  },
  {
   "cell_type": "code",
   "execution_count": 2,
   "metadata": {},
   "outputs": [],
   "source": [
    "salaries = pd.read_csv(\"./data/train_data.csv\")"
   ]
  },
  {
   "cell_type": "code",
   "execution_count": 3,
   "metadata": {},
   "outputs": [
    {
     "name": "stdout",
     "output_type": "stream",
     "text": [
      "The dataset contains 124727 samples and 15 features\n"
     ]
    }
   ],
   "source": [
    "print(f\"The dataset contains {salaries.shape[0]} samples and \"\n",
    "      f\"{salaries.shape[1]} features\")"
   ]
  },
  {
   "cell_type": "markdown",
   "metadata": {},
   "source": [
    "## Prediction"
   ]
  },
  {
   "cell_type": "code",
   "execution_count": 26,
   "metadata": {},
   "outputs": [],
   "source": [
    "target_name = 'ANNUAL'"
   ]
  },
  {
   "cell_type": "code",
   "execution_count": 27,
   "metadata": {},
   "outputs": [],
   "source": [
    "REFERENCE_DATE = pd.to_datetime('02/01/21') # extraction date\n",
    "\n",
    "def date_to_num(df_col):\n",
    "    date = pd.to_datetime(df_col.squeeze())\n",
    "    date[date > REFERENCE_DATE] -= pd.Timedelta('100Y')\n",
    "    date_delta = REFERENCE_DATE - date\n",
    "    return (date_delta.dt.days / 365).to_frame()\n",
    "\n",
    "salaries[['HIREDT']] = date_to_num(salaries[['HIREDT']])"
   ]
  },
  {
   "cell_type": "code",
   "execution_count": 28,
   "metadata": {},
   "outputs": [
    {
     "data": {
      "text/plain": [
       "Unnamed: 0                   int64\n",
       "RATE                       float64\n",
       "HRSWKD                     float64\n",
       "STATENUM                     int64\n",
       "multiple_full_time_jobs    float64\n",
       "NAME                        object\n",
       "MI                          object\n",
       "JOBCLASS                    object\n",
       "JC TITLE                    object\n",
       "RACE                        object\n",
       "SEX                         object\n",
       "EMPTYPE                     object\n",
       "HIREDT                     float64\n",
       "combined_multiple_jobs     float64\n",
       "ANNUAL                     float64\n",
       "dtype: object"
      ]
     },
     "execution_count": 28,
     "metadata": {},
     "output_type": "execute_result"
    }
   ],
   "source": [
    "salaries.dtypes"
   ]
  },
  {
   "cell_type": "code",
   "execution_count": 64,
   "metadata": {},
   "outputs": [],
   "source": [
    "# column type\n",
    "numerical_columns = ['RATE', 'HRSWKD','HIREDT']\n",
    "categorical_columns = ['EMPTYPE', 'RACE', 'NAME', 'MI', 'JOBCLASS', 'JC TITLE', 'SEX']\n",
    "#categorical_columns = ['EMPTYPE', 'RACE', 'MI'] # to run faster the model 'JC TITLE', 'JOBCLASS', 'STATENUM',\n",
    "\n",
    "X_salaries, target = salaries.drop(columns = target_name), salaries[target_name]\n",
    "\n",
    "X_salaries_numeric = X_salaries[numerical_columns]\n",
    "X_salaries_categorical = X_salaries[categorical_columns]\n",
    "\n",
    "# list the categories\n",
    "categories = [salaries[column].unique()\n",
    "              for column in categorical_columns]"
   ]
  },
  {
   "cell_type": "code",
   "execution_count": 114,
   "metadata": {},
   "outputs": [
    {
     "name": "stdout",
     "output_type": "stream",
     "text": [
      "The standard deviation of the target is: 25563.54 k$\n"
     ]
    },
    {
     "data": {
      "image/png": "[encoded data removed]",
      "text/plain": [
       "<Figure size 360x360 with 1 Axes>"
      ]
     },
     "metadata": {
      "needs_background": "light"
     },
     "output_type": "display_data"
    }
   ],
   "source": [
    "sns.displot(target, kde=True, bins=20)\n",
    "_ = plt.xlabel(\"Annual salary ($)\")\n",
    "print(f\"The standard deviation of the target is: {target.std():.2f} k$\")"
   ]
  },
  {
   "cell_type": "code",
   "execution_count": 65,
   "metadata": {},
   "outputs": [
    {
     "data": {
      "text/plain": [
       "HEALTH AND HUMAN SERVICES COMMISSION                  30069\n",
       "TEXAS DEPARTMENT OF CRIMINAL JUSTICE                  29491\n",
       "DEPARTMENT OF FAMILY AND PROTECTIVE SERVICES          10804\n",
       "TEXAS DEPARTMENT OF TRANSPORTATION                    10555\n",
       "DEPARTMENT OF PUBLIC SAFETY                            8656\n",
       "                                                      ...  \n",
       "HEALTH PROFESSIONS COUNCIL                                7\n",
       "TEXAS EMERGENCY SERVICES RETIREMENT SYSTEM                7\n",
       "COMPTROLLER OF PUBLIC ACCOUNTS, STATE ENERGY CONSE        6\n",
       "BOARD OF PROFESSIONAL GEOSCIENTISTS                       4\n",
       "OFFICE OF STATE PROSECUTING ATTORNEY                      3\n",
       "Name: NAME, Length: 111, dtype: int64"
      ]
     },
     "execution_count": 65,
     "metadata": {},
     "output_type": "execute_result"
    }
   ],
   "source": [
    "X_salaries[\"NAME\"].value_counts()"
   ]
  },
  {
   "cell_type": "markdown",
   "metadata": {},
   "source": [
    "We see that some categories are occuring rarely. This will be a problem during cross-validation: if the sample ends up in the test set during splitting then the classifier would not have seen the category during training and will not be able to encode it. Therefore we have to put a correct parameter in the Pipeline."
   ]
  },
  {
   "cell_type": "code",
   "execution_count": 102,
   "metadata": {},
   "outputs": [],
   "source": [
    "# choose data preprocessing\n",
    "categorical_preprocessor = OneHotEncoder(categories=categories,\n",
    "                                         drop=\"if_binary\")\n",
    "numerical_preprocessor = StandardScaler()\n",
    "\n",
    "preprocessor = ColumnTransformer([\n",
    "    ('one-hot-encoder', categorical_preprocessor, categorical_columns),\n",
    "    ('standard-scaler', numerical_preprocessor, numerical_columns)])\n",
    "\n",
    "linear_model = make_pipeline(preprocessor, LinearRegression())"
   ]
  },
  {
   "cell_type": "code",
   "execution_count": 103,
   "metadata": {},
   "outputs": [
    {
     "data": {
      "text/plain": [
       "array([0.93059454, 0.93662426, 0.9387492 , 0.91963167, 0.92095636])"
      ]
     },
     "execution_count": 103,
     "metadata": {},
     "output_type": "execute_result"
    }
   ],
   "source": [
    "scores = cross_val_score(linear_model, X_salaries, target)\n",
    "scores"
   ]
  },
  {
   "cell_type": "code",
   "execution_count": 104,
   "metadata": {},
   "outputs": [
    {
     "data": {
      "text/html": [
       "<style>div.sk-top-container {color: black;background-color: white;}div.sk-toggleable {background-color: white;}label.sk-toggleable__label {cursor: pointer;display: block;width: 100%;margin-bottom: 0;padding: 0.2em 0.3em;box-sizing: border-box;text-align: center;}div.sk-toggleable__content {max-height: 0;max-width: 0;overflow: hidden;text-align: left;background-color: #f0f8ff;}div.sk-toggleable__content pre {margin: 0.2em;color: black;border-radius: 0.25em;background-color: #f0f8ff;}input.sk-toggleable__control:checked~div.sk-toggleable__content {max-height: 200px;max-width: 100%;overflow: auto;}div.sk-estimator input.sk-toggleable__control:checked~label.sk-toggleable__label {background-color: #d4ebff;}div.sk-label input.sk-toggleable__control:checked~label.sk-toggleable__label {background-color: #d4ebff;}input.sk-hidden--visually {border: 0;clip: rect(1px 1px 1px 1px);clip: rect(1px, 1px, 1px, 1px);height: 1px;margin: -1px;overflow: hidden;padding: 0;position: absolute;width: 1px;}div.sk-estimator {font-family: monospace;background-color: #f0f8ff;margin: 0.25em 0.25em;border: 1px dotted black;border-radius: 0.25em;box-sizing: border-box;}div.sk-estimator:hover {background-color: #d4ebff;}div.sk-parallel-item::after {content: \"\";width: 100%;border-bottom: 1px solid gray;flex-grow: 1;}div.sk-label:hover label.sk-toggleable__label {background-color: #d4ebff;}div.sk-serial::before {content: \"\";position: absolute;border-left: 1px solid gray;box-sizing: border-box;top: 2em;bottom: 0;left: 50%;}div.sk-serial {display: flex;flex-direction: column;align-items: center;background-color: white;}div.sk-item {z-index: 1;}div.sk-parallel {display: flex;align-items: stretch;justify-content: center;background-color: white;}div.sk-parallel-item {display: flex;flex-direction: column;position: relative;background-color: white;}div.sk-parallel-item:first-child::after {align-self: flex-end;width: 50%;}div.sk-parallel-item:last-child::after {align-self: flex-start;width: 50%;}div.sk-parallel-item:only-child::after {width: 0;}div.sk-dashed-wrapped {border: 1px dashed gray;margin: 0.2em;box-sizing: border-box;padding-bottom: 0.1em;background-color: white;position: relative;}div.sk-label label {font-family: monospace;font-weight: bold;background-color: white;display: inline-block;line-height: 1.2em;}div.sk-label-container {position: relative;z-index: 2;text-align: center;}div.sk-container {display: inline-block;position: relative;}</style><div class=\"sk-top-container\"><div class=\"sk-container\"><div class=\"sk-item sk-dashed-wrapped\"><div class=\"sk-label-container\"><div class=\"sk-label sk-toggleable\"><input class=\"sk-toggleable__control sk-hidden--visually\" id=\"9653d524-bbc1-48a7-a509-1b008299384e\" type=\"checkbox\" ><label class=\"sk-toggleable__label\" for=\"9653d524-bbc1-48a7-a509-1b008299384e\">Pipeline</label><div class=\"sk-toggleable__content\"><pre>Pipeline(steps=[('columntransformer',\n",
       "                 ColumnTransformer(transformers=[('one-hot-encoder',\n",
       "                                                  OneHotEncoder(categories=[array(['CRF - CLASSIFIED REGULAR FULL-TIME      ',\n",
       "       'URF - UNCLASSIFIED REGULAR FULL-TIME    ',\n",
       "       'CRP - CLASSIFIED REGULAR PART-TIME      ',\n",
       "       'URP - UNCLASSIFIED REGULAR PART-TIME    ',\n",
       "       'ERF - EXEMPT REGULAR FULL-TIME          ',\n",
       "       'CTF - CLASSIFIED TEMPORARY FULL-TIME    ',\n",
       "       'CTP - CLASSIFIED TEMPORARY PART-...\n",
       "                                                                            array(['SECURITY OFFICER III                              ',\n",
       "       'CHILD PROTECTIVE SVCS SPEC I                      ',\n",
       "       'ENGINEER IV                                       ', ...,\n",
       "       'SUPERVISOR                                        ',\n",
       "       'COMMISSIONER, SSB                                 ',\n",
       "       'MGR QUALITY CONTROL REVIEWER                      '], dtype=object),\n",
       "                                                                            array(['MALE           ', 'FEMALE         '], dtype=object)],\n",
       "                                                                drop='if_binary'),\n",
       "                                                  ['EMPTYPE', 'RACE', 'NAME',\n",
       "                                                   'MI', 'JOBCLASS', 'JC TITLE',\n",
       "                                                   'SEX']),\n",
       "                                                 ('standard-scaler',\n",
       "                                                  StandardScaler(),\n",
       "                                                  ['RATE', 'HRSWKD',\n",
       "                                                   'HIREDT'])])),\n",
       "                ('linearregression', LinearRegression())])</pre></div></div></div><div class=\"sk-serial\"><div class=\"sk-item sk-dashed-wrapped\"><div class=\"sk-label-container\"><div class=\"sk-label sk-toggleable\"><input class=\"sk-toggleable__control sk-hidden--visually\" id=\"57532fc3-7de5-4c0b-ace4-43af8a856974\" type=\"checkbox\" ><label class=\"sk-toggleable__label\" for=\"57532fc3-7de5-4c0b-ace4-43af8a856974\">columntransformer: ColumnTransformer</label><div class=\"sk-toggleable__content\"><pre>ColumnTransformer(transformers=[('one-hot-encoder',\n",
       "                                 OneHotEncoder(categories=[array(['CRF - CLASSIFIED REGULAR FULL-TIME      ',\n",
       "       'URF - UNCLASSIFIED REGULAR FULL-TIME    ',\n",
       "       'CRP - CLASSIFIED REGULAR PART-TIME      ',\n",
       "       'URP - UNCLASSIFIED REGULAR PART-TIME    ',\n",
       "       'ERF - EXEMPT REGULAR FULL-TIME          ',\n",
       "       'CTF - CLASSIFIED TEMPORARY FULL-TIME    ',\n",
       "       'CTP - CLASSIFIED TEMPORARY PART-TIME    ',\n",
       "       'UTF - UNCLASSIFIED TEMPORARY FULL-...\n",
       "       'QCR3    '], dtype=object),\n",
       "                                                           array(['SECURITY OFFICER III                              ',\n",
       "       'CHILD PROTECTIVE SVCS SPEC I                      ',\n",
       "       'ENGINEER IV                                       ', ...,\n",
       "       'SUPERVISOR                                        ',\n",
       "       'COMMISSIONER, SSB                                 ',\n",
       "       'MGR QUALITY CONTROL REVIEWER                      '], dtype=object),\n",
       "                                                           array(['MALE           ', 'FEMALE         '], dtype=object)],\n",
       "                                               drop='if_binary'),\n",
       "                                 ['EMPTYPE', 'RACE', 'NAME', 'MI', 'JOBCLASS',\n",
       "                                  'JC TITLE', 'SEX']),\n",
       "                                ('standard-scaler', StandardScaler(),\n",
       "                                 ['RATE', 'HRSWKD', 'HIREDT'])])</pre></div></div></div><div class=\"sk-parallel\"><div class=\"sk-parallel-item\"><div class=\"sk-item\"><div class=\"sk-label-container\"><div class=\"sk-label sk-toggleable\"><input class=\"sk-toggleable__control sk-hidden--visually\" id=\"9daa36dc-2088-4058-bd12-45262266095b\" type=\"checkbox\" ><label class=\"sk-toggleable__label\" for=\"9daa36dc-2088-4058-bd12-45262266095b\">one-hot-encoder</label><div class=\"sk-toggleable__content\"><pre>['EMPTYPE', 'RACE', 'NAME', 'MI', 'JOBCLASS', 'JC TITLE', 'SEX']</pre></div></div></div><div class=\"sk-serial\"><div class=\"sk-item\"><div class=\"sk-estimator sk-toggleable\"><input class=\"sk-toggleable__control sk-hidden--visually\" id=\"e22e549b-2165-4754-8e86-171f298f4915\" type=\"checkbox\" ><label class=\"sk-toggleable__label\" for=\"e22e549b-2165-4754-8e86-171f298f4915\">OneHotEncoder</label><div class=\"sk-toggleable__content\"><pre>OneHotEncoder(categories=[array(['CRF - CLASSIFIED REGULAR FULL-TIME      ',\n",
       "       'URF - UNCLASSIFIED REGULAR FULL-TIME    ',\n",
       "       'CRP - CLASSIFIED REGULAR PART-TIME      ',\n",
       "       'URP - UNCLASSIFIED REGULAR PART-TIME    ',\n",
       "       'ERF - EXEMPT REGULAR FULL-TIME          ',\n",
       "       'CTF - CLASSIFIED TEMPORARY FULL-TIME    ',\n",
       "       'CTP - CLASSIFIED TEMPORARY PART-TIME    ',\n",
       "       'UTF - UNCLASSIFIED TEMPORARY FULL-TIME  ',\n",
       "       'UTP - UNCLASSIFIED TEMPORARY PART-TIME  '], dtype=o...\n",
       "                          array(['A', 'R', 'E', ' ', 'M', 'T', 'C', 'H', 'W', 'D', 'O', 'N', 'J',\n",
       "       'K', 'P', 'S', 'B', 'X', 'G', 'L', 'V', 'I', 'Y', 'F', 'Q', 'Z',\n",
       "       'U'], dtype=object),\n",
       "                          array(['6232    ', '5023    ', '2155    ', ..., 'E269    ', 'S025    ',\n",
       "       'QCR3    '], dtype=object),\n",
       "                          array(['SECURITY OFFICER III                              ',\n",
       "       'CHILD PROTECTIVE SVCS SPEC I                      ',\n",
       "       'ENGINEER IV                                       ', ...,\n",
       "       'SUPERVISOR                                        ',\n",
       "       'COMMISSIONER, SSB                                 ',\n",
       "       'MGR QUALITY CONTROL REVIEWER                      '], dtype=object),\n",
       "                          array(['MALE           ', 'FEMALE         '], dtype=object)],\n",
       "              drop='if_binary')</pre></div></div></div></div></div></div><div class=\"sk-parallel-item\"><div class=\"sk-item\"><div class=\"sk-label-container\"><div class=\"sk-label sk-toggleable\"><input class=\"sk-toggleable__control sk-hidden--visually\" id=\"41fa66c6-b36b-4b21-8ee4-fc758a489f3b\" type=\"checkbox\" ><label class=\"sk-toggleable__label\" for=\"41fa66c6-b36b-4b21-8ee4-fc758a489f3b\">standard-scaler</label><div class=\"sk-toggleable__content\"><pre>['RATE', 'HRSWKD', 'HIREDT']</pre></div></div></div><div class=\"sk-serial\"><div class=\"sk-item\"><div class=\"sk-estimator sk-toggleable\"><input class=\"sk-toggleable__control sk-hidden--visually\" id=\"164d6f33-e332-46de-8d2d-d96b1ceaa631\" type=\"checkbox\" ><label class=\"sk-toggleable__label\" for=\"164d6f33-e332-46de-8d2d-d96b1ceaa631\">StandardScaler</label><div class=\"sk-toggleable__content\"><pre>StandardScaler()</pre></div></div></div></div></div></div></div></div><div class=\"sk-item\"><div class=\"sk-estimator sk-toggleable\"><input class=\"sk-toggleable__control sk-hidden--visually\" id=\"aaa1c793-ccc9-4926-9304-9fdfc6c0fe3a\" type=\"checkbox\" ><label class=\"sk-toggleable__label\" for=\"aaa1c793-ccc9-4926-9304-9fdfc6c0fe3a\">LinearRegression</label><div class=\"sk-toggleable__content\"><pre>LinearRegression()</pre></div></div></div></div></div></div></div>"
      ],
      "text/plain": [
       "Pipeline(steps=[('columntransformer',\n",
       "                 ColumnTransformer(transformers=[('one-hot-encoder',\n",
       "                                                  OneHotEncoder(categories=[array(['CRF - CLASSIFIED REGULAR FULL-TIME      ',\n",
       "       'URF - UNCLASSIFIED REGULAR FULL-TIME    ',\n",
       "       'CRP - CLASSIFIED REGULAR PART-TIME      ',\n",
       "       'URP - UNCLASSIFIED REGULAR PART-TIME    ',\n",
       "       'ERF - EXEMPT REGULAR FULL-TIME          ',\n",
       "       'CTF - CLASSIFIED TEMPORARY FULL-TIME    ',\n",
       "       'CTP - CLASSIFIED TEMPORARY PART-...\n",
       "                                                                            array(['SECURITY OFFICER III                              ',\n",
       "       'CHILD PROTECTIVE SVCS SPEC I                      ',\n",
       "       'ENGINEER IV                                       ', ...,\n",
       "       'SUPERVISOR                                        ',\n",
       "       'COMMISSIONER, SSB                                 ',\n",
       "       'MGR QUALITY CONTROL REVIEWER                      '], dtype=object),\n",
       "                                                                            array(['MALE           ', 'FEMALE         '], dtype=object)],\n",
       "                                                                drop='if_binary'),\n",
       "                                                  ['EMPTYPE', 'RACE', 'NAME',\n",
       "                                                   'MI', 'JOBCLASS', 'JC TITLE',\n",
       "                                                   'SEX']),\n",
       "                                                 ('standard-scaler',\n",
       "                                                  StandardScaler(),\n",
       "                                                  ['RATE', 'HRSWKD',\n",
       "                                                   'HIREDT'])])),\n",
       "                ('linearregression', LinearRegression())])"
      ]
     },
     "execution_count": 104,
     "metadata": {},
     "output_type": "execute_result"
    }
   ],
   "source": [
    "set_config(display='diagram')\n",
    "linear_model"
   ]
  },
  {
   "cell_type": "markdown",
   "metadata": {},
   "source": [
    "We recall that LinearRegression fits a linear model with coefficients w = (w1, …, wp) to minimize the residual sum of squares between the observed targets in the dataset, and the targets predicted by the linear approximation. Note that this model is performing pretty well on this data set!\n",
    "\n",
    "Can we expect a better score with a more powerful model?"
   ]
  },
  {
   "cell_type": "code",
   "execution_count": 80,
   "metadata": {},
   "outputs": [
    {
     "data": {
      "text/plain": [
       "array([0.69531682, 0.69526923, 0.68441758, 0.70526571, 0.67565776])"
      ]
     },
     "execution_count": 80,
     "metadata": {},
     "output_type": "execute_result"
    }
   ],
   "source": [
    "# arbitrary integer coding of categories is perfectly fine for histgradient boosting\n",
    "categorical_preprocessor = OrdinalEncoder(categories=categories) \n",
    "\n",
    "# just in case - this command line for onehotencoder\n",
    "# categorical_preprocessor = OneHotEncoder(categories=categories, sparse=False) # force the use a dense representation as a workaround\n",
    "\n",
    "new_preprocessor = ColumnTransformer([\n",
    "    ('categorical', categorical_preprocessor, categorical_columns)],\n",
    "    remainder=\"passthrough\")\n",
    "\n",
    "more_complex_model = make_pipeline(new_preprocessor, HistGradientBoostingRegressor())\n",
    "scores = cross_val_score(more_complex_model, X_salaries, target)\n",
    "scores"
   ]
  },
  {
   "cell_type": "markdown",
   "metadata": {},
   "source": [
    "Surprisingly we have a lower performance than the linear model. Does this come from overfitting?"
   ]
  },
  {
   "cell_type": "code",
   "execution_count": 92,
   "metadata": {},
   "outputs": [],
   "source": [
    "def investigate_empirical_true_error(X, y, model):\n",
    "    X_train, X_test, y_train, y_test = train_test_split(X, y, random_state = 27)\n",
    "    model.fit(X_train, y_train)\n",
    "    y_pred = model.predict(X_train)\n",
    "    score = mean_absolute_error(y_pred, y_train)\n",
    "    print(f\"The empirical error of our model is {score:.2f} k$\")\n",
    "    y_pred = model.predict(X_test)\n",
    "    score = mean_absolute_error(y_pred, y_test)\n",
    "    print(f\"The generalization error of our model is {score:.2f} k$\")\n",
    "    return"
   ]
  },
  {
   "cell_type": "code",
   "execution_count": 93,
   "metadata": {},
   "outputs": [
    {
     "name": "stdout",
     "output_type": "stream",
     "text": [
      "The empirical error of our model is 7578.92 k$\n",
      "The generalization error of our model is 7791.20 k$\n",
      "The empirical error of our model is 3277.48 k$\n",
      "The generalization error of our model is 3448.51 k$\n"
     ]
    }
   ],
   "source": [
    "investigate_empirical_true_error(X_salaries, target, more_complex_model)\n",
    "investigate_empirical_true_error(X_salaries, target, linear_model)"
   ]
  },
  {
   "cell_type": "markdown",
   "metadata": {},
   "source": [
    "Apparently not."
   ]
  },
  {
   "cell_type": "code",
   "execution_count": 116,
   "metadata": {},
   "outputs": [
    {
     "ename": "TypeError",
     "evalue": "estimator should be an estimator implementing 'fit' method, <module 'sklearn.linear_model' from '/usr/local/lib/python3.9/site-packages/sklearn/linear_model/__init__.py'> was passed",
     "output_type": "error",
     "traceback": [
      "\u001b[0;31m---------------------------------------------------------------------------\u001b[0m",
      "\u001b[0;31mTypeError\u001b[0m                                 Traceback (most recent call last)",
      "\u001b[0;32m<ipython-input-116-a593a7063159>\u001b[0m in \u001b[0;36m<module>\u001b[0;34m\u001b[0m\n\u001b[1;32m      1\u001b[0m \u001b[0mcv\u001b[0m \u001b[0;34m=\u001b[0m \u001b[0mShuffleSplit\u001b[0m\u001b[0;34m(\u001b[0m\u001b[0mn_splits\u001b[0m\u001b[0;34m=\u001b[0m\u001b[0;36m10\u001b[0m\u001b[0;34m,\u001b[0m \u001b[0mtest_size\u001b[0m\u001b[0;34m=\u001b[0m\u001b[0;36m0.2\u001b[0m\u001b[0;34m)\u001b[0m\u001b[0;34m\u001b[0m\u001b[0;34m\u001b[0m\u001b[0m\n\u001b[0;32m----> 2\u001b[0;31m \u001b[0mcv_results\u001b[0m \u001b[0;34m=\u001b[0m \u001b[0mcross_validate\u001b[0m\u001b[0;34m(\u001b[0m\u001b[0mlinear_model\u001b[0m\u001b[0;34m,\u001b[0m \u001b[0mX_salaries\u001b[0m\u001b[0;34m,\u001b[0m \u001b[0mtarget\u001b[0m\u001b[0;34m,\u001b[0m \u001b[0mcv\u001b[0m\u001b[0;34m=\u001b[0m\u001b[0mcv\u001b[0m\u001b[0;34m,\u001b[0m \u001b[0mscoring\u001b[0m\u001b[0;34m=\u001b[0m\u001b[0;34m\"neg_mean_absolute_error\"\u001b[0m\u001b[0;34m)\u001b[0m\u001b[0;34m\u001b[0m\u001b[0;34m\u001b[0m\u001b[0m\n\u001b[0m\u001b[1;32m      3\u001b[0m \u001b[0mcv_results\u001b[0m \u001b[0;34m=\u001b[0m \u001b[0mpd\u001b[0m\u001b[0;34m.\u001b[0m\u001b[0mDataFrame\u001b[0m\u001b[0;34m(\u001b[0m\u001b[0mcv_results\u001b[0m\u001b[0;34m)\u001b[0m\u001b[0;34m\u001b[0m\u001b[0;34m\u001b[0m\u001b[0m\n\u001b[1;32m      4\u001b[0m \u001b[0mcv_results\u001b[0m\u001b[0;34m[\u001b[0m\u001b[0;34m\"test_error\"\u001b[0m\u001b[0;34m]\u001b[0m \u001b[0;34m=\u001b[0m \u001b[0;34m-\u001b[0m\u001b[0mcv_results\u001b[0m\u001b[0;34m[\u001b[0m\u001b[0;34m\"test_score\"\u001b[0m\u001b[0;34m]\u001b[0m\u001b[0;34m\u001b[0m\u001b[0;34m\u001b[0m\u001b[0m\n\u001b[1;32m      5\u001b[0m \u001b[0;34m\u001b[0m\u001b[0m\n",
      "\u001b[0;32m/usr/local/lib/python3.9/site-packages/sklearn/utils/validation.py\u001b[0m in \u001b[0;36minner_f\u001b[0;34m(*args, **kwargs)\u001b[0m\n\u001b[1;32m     70\u001b[0m                           FutureWarning)\n\u001b[1;32m     71\u001b[0m         \u001b[0mkwargs\u001b[0m\u001b[0;34m.\u001b[0m\u001b[0mupdate\u001b[0m\u001b[0;34m(\u001b[0m\u001b[0;34m{\u001b[0m\u001b[0mk\u001b[0m\u001b[0;34m:\u001b[0m \u001b[0marg\u001b[0m \u001b[0;32mfor\u001b[0m \u001b[0mk\u001b[0m\u001b[0;34m,\u001b[0m \u001b[0marg\u001b[0m \u001b[0;32min\u001b[0m \u001b[0mzip\u001b[0m\u001b[0;34m(\u001b[0m\u001b[0msig\u001b[0m\u001b[0;34m.\u001b[0m\u001b[0mparameters\u001b[0m\u001b[0;34m,\u001b[0m \u001b[0margs\u001b[0m\u001b[0;34m)\u001b[0m\u001b[0;34m}\u001b[0m\u001b[0;34m)\u001b[0m\u001b[0;34m\u001b[0m\u001b[0;34m\u001b[0m\u001b[0m\n\u001b[0;32m---> 72\u001b[0;31m         \u001b[0;32mreturn\u001b[0m \u001b[0mf\u001b[0m\u001b[0;34m(\u001b[0m\u001b[0;34m**\u001b[0m\u001b[0mkwargs\u001b[0m\u001b[0;34m)\u001b[0m\u001b[0;34m\u001b[0m\u001b[0;34m\u001b[0m\u001b[0m\n\u001b[0m\u001b[1;32m     73\u001b[0m     \u001b[0;32mreturn\u001b[0m \u001b[0minner_f\u001b[0m\u001b[0;34m\u001b[0m\u001b[0;34m\u001b[0m\u001b[0m\n\u001b[1;32m     74\u001b[0m \u001b[0;34m\u001b[0m\u001b[0m\n",
      "\u001b[0;32m/usr/local/lib/python3.9/site-packages/sklearn/model_selection/_validation.py\u001b[0m in \u001b[0;36mcross_validate\u001b[0;34m(estimator, X, y, groups, scoring, cv, n_jobs, verbose, fit_params, pre_dispatch, return_train_score, return_estimator, error_score)\u001b[0m\n\u001b[1;32m    234\u001b[0m \u001b[0;34m\u001b[0m\u001b[0m\n\u001b[1;32m    235\u001b[0m     \u001b[0mcv\u001b[0m \u001b[0;34m=\u001b[0m \u001b[0mcheck_cv\u001b[0m\u001b[0;34m(\u001b[0m\u001b[0mcv\u001b[0m\u001b[0;34m,\u001b[0m \u001b[0my\u001b[0m\u001b[0;34m,\u001b[0m \u001b[0mclassifier\u001b[0m\u001b[0;34m=\u001b[0m\u001b[0mis_classifier\u001b[0m\u001b[0;34m(\u001b[0m\u001b[0mestimator\u001b[0m\u001b[0;34m)\u001b[0m\u001b[0;34m)\u001b[0m\u001b[0;34m\u001b[0m\u001b[0;34m\u001b[0m\u001b[0m\n\u001b[0;32m--> 236\u001b[0;31m     \u001b[0mscorers\u001b[0m\u001b[0;34m,\u001b[0m \u001b[0m_\u001b[0m \u001b[0;34m=\u001b[0m \u001b[0m_check_multimetric_scoring\u001b[0m\u001b[0;34m(\u001b[0m\u001b[0mestimator\u001b[0m\u001b[0;34m,\u001b[0m \u001b[0mscoring\u001b[0m\u001b[0;34m=\u001b[0m\u001b[0mscoring\u001b[0m\u001b[0;34m)\u001b[0m\u001b[0;34m\u001b[0m\u001b[0;34m\u001b[0m\u001b[0m\n\u001b[0m\u001b[1;32m    237\u001b[0m \u001b[0;34m\u001b[0m\u001b[0m\n\u001b[1;32m    238\u001b[0m     \u001b[0;31m# We clone the estimator to make sure that all the folds are\u001b[0m\u001b[0;34m\u001b[0m\u001b[0;34m\u001b[0m\u001b[0;34m\u001b[0m\u001b[0m\n",
      "\u001b[0;32m/usr/local/lib/python3.9/site-packages/sklearn/metrics/_scorer.py\u001b[0m in \u001b[0;36m_check_multimetric_scoring\u001b[0;34m(estimator, scoring)\u001b[0m\n\u001b[1;32m    473\u001b[0m     if callable(scoring) or scoring is None or isinstance(scoring,\n\u001b[1;32m    474\u001b[0m                                                           str):\n\u001b[0;32m--> 475\u001b[0;31m         \u001b[0mscorers\u001b[0m \u001b[0;34m=\u001b[0m \u001b[0;34m{\u001b[0m\u001b[0;34m\"score\"\u001b[0m\u001b[0;34m:\u001b[0m \u001b[0mcheck_scoring\u001b[0m\u001b[0;34m(\u001b[0m\u001b[0mestimator\u001b[0m\u001b[0;34m,\u001b[0m \u001b[0mscoring\u001b[0m\u001b[0;34m=\u001b[0m\u001b[0mscoring\u001b[0m\u001b[0;34m)\u001b[0m\u001b[0;34m}\u001b[0m\u001b[0;34m\u001b[0m\u001b[0;34m\u001b[0m\u001b[0m\n\u001b[0m\u001b[1;32m    476\u001b[0m         \u001b[0;32mreturn\u001b[0m \u001b[0mscorers\u001b[0m\u001b[0;34m,\u001b[0m \u001b[0;32mFalse\u001b[0m\u001b[0;34m\u001b[0m\u001b[0;34m\u001b[0m\u001b[0m\n\u001b[1;32m    477\u001b[0m     \u001b[0;32melse\u001b[0m\u001b[0;34m:\u001b[0m\u001b[0;34m\u001b[0m\u001b[0;34m\u001b[0m\u001b[0m\n",
      "\u001b[0;32m/usr/local/lib/python3.9/site-packages/sklearn/utils/validation.py\u001b[0m in \u001b[0;36minner_f\u001b[0;34m(*args, **kwargs)\u001b[0m\n\u001b[1;32m     70\u001b[0m                           FutureWarning)\n\u001b[1;32m     71\u001b[0m         \u001b[0mkwargs\u001b[0m\u001b[0;34m.\u001b[0m\u001b[0mupdate\u001b[0m\u001b[0;34m(\u001b[0m\u001b[0;34m{\u001b[0m\u001b[0mk\u001b[0m\u001b[0;34m:\u001b[0m \u001b[0marg\u001b[0m \u001b[0;32mfor\u001b[0m \u001b[0mk\u001b[0m\u001b[0;34m,\u001b[0m \u001b[0marg\u001b[0m \u001b[0;32min\u001b[0m \u001b[0mzip\u001b[0m\u001b[0;34m(\u001b[0m\u001b[0msig\u001b[0m\u001b[0;34m.\u001b[0m\u001b[0mparameters\u001b[0m\u001b[0;34m,\u001b[0m \u001b[0margs\u001b[0m\u001b[0;34m)\u001b[0m\u001b[0;34m}\u001b[0m\u001b[0;34m)\u001b[0m\u001b[0;34m\u001b[0m\u001b[0;34m\u001b[0m\u001b[0m\n\u001b[0;32m---> 72\u001b[0;31m         \u001b[0;32mreturn\u001b[0m \u001b[0mf\u001b[0m\u001b[0;34m(\u001b[0m\u001b[0;34m**\u001b[0m\u001b[0mkwargs\u001b[0m\u001b[0;34m)\u001b[0m\u001b[0;34m\u001b[0m\u001b[0;34m\u001b[0m\u001b[0m\n\u001b[0m\u001b[1;32m     73\u001b[0m     \u001b[0;32mreturn\u001b[0m \u001b[0minner_f\u001b[0m\u001b[0;34m\u001b[0m\u001b[0;34m\u001b[0m\u001b[0m\n\u001b[1;32m     74\u001b[0m \u001b[0;34m\u001b[0m\u001b[0m\n",
      "\u001b[0;32m/usr/local/lib/python3.9/site-packages/sklearn/metrics/_scorer.py\u001b[0m in \u001b[0;36mcheck_scoring\u001b[0;34m(estimator, scoring, allow_none)\u001b[0m\n\u001b[1;32m    400\u001b[0m     \"\"\"\n\u001b[1;32m    401\u001b[0m     \u001b[0;32mif\u001b[0m \u001b[0;32mnot\u001b[0m \u001b[0mhasattr\u001b[0m\u001b[0;34m(\u001b[0m\u001b[0mestimator\u001b[0m\u001b[0;34m,\u001b[0m \u001b[0;34m'fit'\u001b[0m\u001b[0;34m)\u001b[0m\u001b[0;34m:\u001b[0m\u001b[0;34m\u001b[0m\u001b[0;34m\u001b[0m\u001b[0m\n\u001b[0;32m--> 402\u001b[0;31m         raise TypeError(\"estimator should be an estimator implementing \"\n\u001b[0m\u001b[1;32m    403\u001b[0m                         \"'fit' method, %r was passed\" % estimator)\n\u001b[1;32m    404\u001b[0m     \u001b[0;32mif\u001b[0m \u001b[0misinstance\u001b[0m\u001b[0;34m(\u001b[0m\u001b[0mscoring\u001b[0m\u001b[0;34m,\u001b[0m \u001b[0mstr\u001b[0m\u001b[0;34m)\u001b[0m\u001b[0;34m:\u001b[0m\u001b[0;34m\u001b[0m\u001b[0;34m\u001b[0m\u001b[0m\n",
      "\u001b[0;31mTypeError\u001b[0m: estimator should be an estimator implementing 'fit' method, <module 'sklearn.linear_model' from '/usr/local/lib/python3.9/site-packages/sklearn/linear_model/__init__.py'> was passed"
     ]
    }
   ],
   "source": [
    "cv = ShuffleSplit(n_splits=10, test_size=0.2)\n",
    "cv_results = cross_validate(linear_model, X_salaries, target, cv=cv, scoring=\"neg_mean_absolute_error\")\n",
    "cv_results = pd.DataFrame(cv_results)\n",
    "cv_results[\"test_error\"] = -cv_results[\"test_score\"]\n",
    "\n",
    "sns.set_context(\"talk\")  # Set Seaborn's plotting style to \"talk\" mode.\n",
    "\n",
    "sns.displot(cv_results[\"test_error\"], kde=True, bins=10)\n",
    "_ = plt.xlabel(\"Mean absolute error (k$)\")"
   ]
  },
  {
   "cell_type": "markdown",
   "metadata": {},
   "source": [
    "The mean estimate of the generalization error obtained by cross-validation is lower than the natural scale of variation of the target estimate."
   ]
  },
  {
   "cell_type": "code",
   "execution_count": null,
   "metadata": {},
   "outputs": [],
   "source": []
  }
 ],
 "metadata": {
  "kernelspec": {
   "display_name": "Python 3",
   "language": "python",
   "name": "python3"
  },
  "language_info": {
   "codemirror_mode": {
    "name": "ipython",
    "version": 3
   },
   "file_extension": ".py",
   "mimetype": "text/x-python",
   "name": "python",
   "nbconvert_exporter": "python",
   "pygments_lexer": "ipython3",
   "version": "3.9.1"
  }
 },
 "nbformat": 4,
 "nbformat_minor": 4
}
